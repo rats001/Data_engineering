{
 "cells": [
  {
   "cell_type": "code",
   "execution_count": 2,
   "id": "20afcf9c-591e-40f9-b499-b24135f07c98",
   "metadata": {},
   "outputs": [],
   "source": [
    "import pandas as pd"
   ]
  },
  {
   "cell_type": "code",
   "execution_count": 8,
   "id": "d83b88bb-68a3-4f3e-b61c-bca5a0d49608",
   "metadata": {},
   "outputs": [
    {
     "name": "stdout",
     "output_type": "stream",
     "text": [
      "Student:  ['John', 'robert', 'sam']\n",
      "Grades:  [10, 20, 30]\n",
      "Student:  robert\n",
      "Grade:  20\n"
     ]
    }
   ],
   "source": [
    "# List demo \n",
    "\n",
    "students = [\"John\",\"robert\",\"sam\"]\n",
    "grade = [10,20,30]\n",
    "\n",
    "print(\"Student: \",students)\n",
    "print(\"Grades: \",grade)\n",
    "\n",
    "print(\"Student: \",students[1])\n",
    "print(\"Grade: \",grade[1])\n"
   ]
  },
  {
   "cell_type": "code",
   "execution_count": 12,
   "id": "f7e7ade0-61d0-46c9-8d52-a553b0d092fb",
   "metadata": {},
   "outputs": [
    {
     "name": "stdout",
     "output_type": "stream",
     "text": [
      "{'John': 10, 'Robert': 20, 'sam': 30}\n"
     ]
    }
   ],
   "source": [
    "# Dictionary mapping student names to grades\n",
    "\n",
    "student_grades = {\n",
    "    \"John\":10,\n",
    "    \"Robert\":20,\n",
    "    \"sam\":30\n",
    "}\n",
    "\n",
    "print(student_grades)"
   ]
  },
  {
   "cell_type": "code",
   "execution_count": null,
   "id": "74a462bd-b113-4c21-bf93-59b3d5827c88",
   "metadata": {},
   "outputs": [],
   "source": []
  },
  {
   "cell_type": "code",
   "execution_count": 39,
   "id": "5944119e-ba6e-49c2-b3ac-f0c72ebe1618",
   "metadata": {},
   "outputs": [
    {
     "name": "stdout",
     "output_type": "stream",
     "text": [
      "To find Avg grade:  20.0\n",
      "to find Top Grade:  30\n"
     ]
    }
   ],
   "source": [
    "# Function to calculate the average grade\n",
    "\n",
    "def avg_grade(stud_grade):\n",
    "    return sum(stud_grade.values())/len(stud_grade)\n",
    "\n",
    "# Function to find the student with the highest grade\n",
    "\n",
    "def to_find_max_grade(stud_grade):\n",
    "    return max(stud_grade.values())\n",
    "\n",
    "\n",
    "avg = avg_grade(student_grades)\n",
    "top = to_find_max_grade(student_grades)\n",
    "\n",
    "print(\"To find Avg grade: \",avg)\n",
    "print(\"to find Top Grade: \",top)\n",
    "    "
   ]
  },
  {
   "cell_type": "code",
   "execution_count": 44,
   "id": "266523fd-6055-48b6-9199-8b95897a8385",
   "metadata": {},
   "outputs": [
    {
     "name": "stdout",
     "output_type": "stream",
     "text": [
      "John, 10\n",
      "Robert, 20\n",
      "sam, 30\n",
      "20.0\n"
     ]
    }
   ],
   "source": [
    "# calling function with names and grades\n",
    "\n",
    "def avg_grades(stud_grade):\n",
    "    total = 0\n",
    "    for nam , grad in stud_grade.items():\n",
    "        print(f\"{nam}, {grad}\" )\n",
    "        total += grad\n",
    "    return total/len(stud_grade)\n",
    "\n",
    "tot = avg_grades(student_grades)\n",
    "print(tot)\n",
    "        \n",
    "        \n",
    "        "
   ]
  },
  {
   "cell_type": "code",
   "execution_count": 72,
   "id": "2604616c-cb63-4b47-9994-48b7a32b8c3b",
   "metadata": {},
   "outputs": [
    {
     "name": "stdout",
     "output_type": "stream",
     "text": [
      "      Name  Math  Science\n",
      "0    Alice    85       88\n",
      "1      Bob    90       83\n",
      "2  Charlie    78       85\n",
      "3    Diana    92       95\n"
     ]
    }
   ],
   "source": [
    "# demo Dataframe\n",
    "\n",
    "data = {\n",
    "    \"Name\": [\"Alice\", \"Bob\", \"Charlie\", \"Diana\"],\n",
    "    \"Math\": [85, 90, 78, 92],\n",
    "    \"Science\": [88, 83, 85, 95]\n",
    "}\n",
    "\n",
    "df = pd.DataFrame(data)\n",
    "# print(df[[\"Math\",\"Science\"]])\n",
    "print(df.iloc[0:])\n",
    "\n",
    "\n"
   ]
  },
  {
   "cell_type": "code",
   "execution_count": 77,
   "id": "54f2cc9f-7dfa-454f-8b58-0a2609001cb0",
   "metadata": {},
   "outputs": [
    {
     "name": "stdout",
     "output_type": "stream",
     "text": [
      "      Name  Age  Average\n",
      "0    Alice   20     92.5\n",
      "1      Bob   21     82.5\n",
      "2  Charlie   22     83.0\n"
     ]
    }
   ],
   "source": [
    "students = pd.DataFrame({\n",
    "    \"Name\": [\"Alice\", \"Bob\", \"Charlie\"],\n",
    "    \"Age\": [20, 21, 22]\n",
    "})\n",
    "\n",
    "grades = pd.DataFrame({\n",
    "    \"Name\": [\"Alice\", \"Bob\", \"Charlie\"],\n",
    "    \"Average\": [92.5, 82.5, 83]\n",
    "})\n",
    "\n",
    "combined = pd.merge(students,grades,on=\"Name\")\n",
    "print(combined)"
   ]
  },
  {
   "cell_type": "code",
   "execution_count": 92,
   "id": "4be59873-c236-49a9-9dab-086a06fece5e",
   "metadata": {},
   "outputs": [
    {
     "name": "stdout",
     "output_type": "stream",
     "text": [
      "      Name  Subject  Score Grade\n",
      "0    Alice     Math     90     A\n",
      "1      Bob     Math     85     B\n",
      "2  Charlie     Math     78     C\n",
      "3    Alice  Science     95     A\n",
      "4      Bob  Science     80     B\n",
      "5  Charlie  Science     88     B\n",
      "Average Score:        Name  Score\n",
      "0    Alice   92.5\n",
      "1      Bob   82.5\n",
      "2  Charlie   83.0\n",
      "Maximum Suject Marks: \n",
      "\n",
      "         max\n",
      "Subject     \n",
      "Math      90\n",
      "Science   95\n",
      "         Score   Name\n",
      "Subject              \n",
      "Math        90  Alice\n",
      "Science     95  Alice\n"
     ]
    },
    {
     "name": "stderr",
     "output_type": "stream",
     "text": [
      "C:\\Users\\Admin\\AppData\\Local\\Temp\\ipykernel_1356\\3121569920.py:34: DeprecationWarning: DataFrameGroupBy.apply operated on the grouping columns. This behavior is deprecated, and in a future version of pandas the grouping columns will be excluded from the operation. Either pass `include_groups=False` to exclude the groupings or explicitly select the grouping columns after groupby to silence this warning.\n",
      "  avg_stat = df.groupby(\"Subject\").apply(\n"
     ]
    }
   ],
   "source": [
    "data = {\n",
    "    \"Name\": [\"Alice\", \"Bob\", \"Charlie\", \"Alice\", \"Bob\", \"Charlie\"],\n",
    "    \"Subject\": [\"Math\", \"Math\", \"Math\", \"Science\", \"Science\", \"Science\"],\n",
    "    \"Score\": [90, 85, 78, 95, 80, 88]\n",
    "}\n",
    "\n",
    "df = pd.DataFrame(data)\n",
    "\n",
    "# Define custom grade function\n",
    "def assign_grade(score):\n",
    "    if score >= 90:\n",
    "        return \"A\"\n",
    "    elif score >= 80:\n",
    "        return \"B\"\n",
    "    else:\n",
    "        return \"C\"\n",
    "\n",
    "df[\"Grade\"] = df[\"Score\"].apply(assign_grade)\n",
    "print(df)\n",
    "\n",
    "# Group by Name – Average Score\n",
    "\n",
    "avg_scores = df.groupby(\"Name\")[\"Score\"].mean().reset_index()\n",
    "print(\"Average Score: \",avg_scores)\n",
    "\n",
    "# Subject wise statistic \n",
    "\n",
    "avg_stat = df.groupby(\"Subject\")[\"Score\"].agg([\"max\"])\n",
    "print(\"Maximum Suject Marks: \\n\")\n",
    "\n",
    "print(avg_stat)\n",
    "\n",
    "# upper line does not give student name with Subject , score this will give name of student who got this score\n",
    "avg_stat = df.groupby(\"Subject\").apply(\n",
    "     lambda g: g.loc[g[\"Score\"].idxmax(), [\"Score\", \"Name\"]]\n",
    ")\n",
    "\n",
    "print(avg_stat)\n",
    "\n"
   ]
  }
 ],
 "metadata": {
  "kernelspec": {
   "display_name": "Python 3 (ipykernel)",
   "language": "python",
   "name": "python3"
  },
  "language_info": {
   "codemirror_mode": {
    "name": "ipython",
    "version": 3
   },
   "file_extension": ".py",
   "mimetype": "text/x-python",
   "name": "python",
   "nbconvert_exporter": "python",
   "pygments_lexer": "ipython3",
   "version": "3.12.7"
  }
 },
 "nbformat": 4,
 "nbformat_minor": 5
}

# end script
